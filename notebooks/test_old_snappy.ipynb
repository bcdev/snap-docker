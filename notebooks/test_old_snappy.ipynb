{
 "cells": [
  {
   "cell_type": "markdown",
   "id": "e386c767",
   "metadata": {
    "collapsed": false,
    "jupyter": {
     "outputs_hidden": false
    }
   },
   "source": [
    "## Snapista Demo notebook - Creating a binning operator and running it in a graph..."
   ]
  },
  {
   "cell_type": "code",
   "execution_count": 1,
   "id": "1bc9294f-af44-4833-b67a-2a845d6f3c79",
   "metadata": {},
   "outputs": [
    {
     "name": "stdout",
     "output_type": "stream",
     "text": [
      "3.11.9 | packaged by Anaconda, Inc. | (main, Apr 19 2024, 16:40:41) [MSC v.1916 64 bit (AMD64)]\n",
      "Location of esa_snappy package: D:\\olaf\\miniconda3_py311\\Lib\\site-packages\\esa_snappy\n"
     ]
    }
   ],
   "source": [
    "# Some information...\n",
    "\n",
    "import os\n",
    "import sys\n",
    "print(sys.version)\n",
    "\n",
    "import sysconfig\n",
    "print(\"Location of snappy package: \" + sysconfig.get_paths()['purelib'] + os.sep + \"snappy\")"
   ]
  },
  {
   "cell_type": "code",
   "execution_count": 2,
   "id": "c4bf59c7-78f2-4e94-a6b9-da0c8a04368d",
   "metadata": {},
   "outputs": [],
   "source": [
    "# Import snappy...\n",
    "\n",
    "import snappy"
   ]
  },
  {
   "cell_type": "code",
   "execution_count": 3,
   "id": "ba09111e-e105-4b63-a838-9ec767191a73",
   "metadata": {},
   "outputs": [],
   "source": [
    "# Import ProductIO...\n",
    "\n",
    "from snappy import ProductIO"
   ]
  }
 ],
 "metadata": {
  "kernelspec": {
   "display_name": "Python 3 (ipykernel)",
   "language": "python",
   "name": "python3"
  },
  "language_info": {
   "codemirror_mode": {
    "name": "ipython",
    "version": 3
   },
   "file_extension": ".py",
   "mimetype": "text/x-python",
   "name": "python",
   "nbconvert_exporter": "python",
   "pygments_lexer": "ipython3",
   "version": "3.11.9"
  }
 },
 "nbformat": 4,
 "nbformat_minor": 5
}
